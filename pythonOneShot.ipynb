{
 "cells": [
  {
   "cell_type": "code",
   "execution_count": 2,
   "metadata": {},
   "outputs": [
    {
     "name": "stdout",
     "output_type": "stream",
     "text": [
      "Hello world\n",
      "**********\n"
     ]
    }
   ],
   "source": [
    "#first code \n",
    "print(\"Hello world\")\n",
    "print(\"*\" * 10) # this is expression inside the paranthesis"
   ]
  },
  {
   "cell_type": "code",
   "execution_count": 6,
   "metadata": {},
   "outputs": [
    {
     "name": "stdout",
     "output_type": "stream",
     "text": [
      "10\n",
      "harsh 4.9 is smart True\n"
     ]
    }
   ],
   "source": [
    "#variables \n",
    "price = 10  #first it conveted into binary to store in memory\n",
    "rating = 4.9\n",
    "name = \"harsh\"\n",
    "is_smart = True\n",
    "print(price)\n",
    "print(name, rating,\"is smart\",is_smart )"
   ]
  },
  {
   "cell_type": "code",
   "execution_count": 1,
   "metadata": {},
   "outputs": [
    {
     "name": "stdout",
     "output_type": "stream",
     "text": [
      "Hi harsh\n"
     ]
    }
   ],
   "source": [
    "#Inputs\n",
    "name = input('what is your name? ')\n",
    "print(\"Hi \"+ name)"
   ]
  },
  {
   "cell_type": "code",
   "execution_count": 3,
   "metadata": {},
   "outputs": [
    {
     "name": "stdout",
     "output_type": "stream",
     "text": [
      "<class 'str'>\n",
      "<class 'int'>\n",
      "16\n"
     ]
    }
   ],
   "source": [
    "#type conversion \\\n",
    "brith_year = input('Birth year: ')\n",
    "print(type(brith_year))\n",
    "age = 2023 - int(brith_year)\n",
    "print(type(age))\n",
    "print(age)"
   ]
  }
 ],
 "metadata": {
  "kernelspec": {
   "display_name": "Python 3",
   "language": "python",
   "name": "python3"
  },
  "language_info": {
   "codemirror_mode": {
    "name": "ipython",
    "version": 3
   },
   "file_extension": ".py",
   "mimetype": "text/x-python",
   "name": "python",
   "nbconvert_exporter": "python",
   "pygments_lexer": "ipython3",
   "version": "3.11.2"
  },
  "orig_nbformat": 4
 },
 "nbformat": 4,
 "nbformat_minor": 2
}
