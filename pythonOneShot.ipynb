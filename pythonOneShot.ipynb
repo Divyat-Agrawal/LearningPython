{
 "cells": [
  {
   "cell_type": "markdown",
   "metadata": {},
   "source": [
    "# Basics"
   ]
  },
  {
   "cell_type": "code",
   "execution_count": 2,
   "metadata": {},
   "outputs": [
    {
     "name": "stdout",
     "output_type": "stream",
     "text": [
      "Hello world\n",
      "**********\n"
     ]
    }
   ],
   "source": [
    "#first code \n",
    "print(\"Hello world\")\n",
    "print(\"*\" * 10) # this is expression inside the paranthesis"
   ]
  },
  {
   "cell_type": "code",
   "execution_count": 6,
   "metadata": {},
   "outputs": [
    {
     "name": "stdout",
     "output_type": "stream",
     "text": [
      "10\n",
      "harsh 4.9 is smart True\n"
     ]
    }
   ],
   "source": [
    "#variables \n",
    "price = 10  #first it conveted into binary to store in memory\n",
    "rating = 4.9\n",
    "name = \"harsh\"\n",
    "is_smart = True\n",
    "print(price)\n",
    "print(name, rating,\"is smart\",is_smart )"
   ]
  },
  {
   "cell_type": "code",
   "execution_count": 1,
   "metadata": {},
   "outputs": [
    {
     "name": "stdout",
     "output_type": "stream",
     "text": [
      "Hi harsh\n"
     ]
    }
   ],
   "source": [
    "#Inputs\n",
    "name = input('what is your name? ')\n",
    "print(\"Hi \"+ name)"
   ]
  },
  {
   "cell_type": "code",
   "execution_count": 3,
   "metadata": {},
   "outputs": [
    {
     "name": "stdout",
     "output_type": "stream",
     "text": [
      "<class 'str'>\n",
      "<class 'int'>\n",
      "16\n"
     ]
    }
   ],
   "source": [
    "#type conversion \\\n",
    "brith_year = input('Birth year: ')\n",
    "print(type(brith_year))\n",
    "age = 2023 - int(brith_year)\n",
    "print(type(age))\n",
    "print(age)"
   ]
  },
  {
   "cell_type": "code",
   "execution_count": 4,
   "metadata": {},
   "outputs": [
    {
     "name": "stdout",
     "output_type": "stream",
     "text": [
      "166.66666666666666\n"
     ]
    }
   ],
   "source": [
    "#exercise one \n",
    "weight_Kg = int(input(\"enter your weight in kg \"))\n",
    "weight_lbs = weight_Kg / 0.45\n",
    "print(weight_lbs)"
   ]
  },
  {
   "cell_type": "markdown",
   "metadata": {},
   "source": [
    "## Strings"
   ]
  },
  {
   "cell_type": "code",
   "execution_count": 10,
   "metadata": {},
   "outputs": [
    {
     "name": "stdout",
     "output_type": "stream",
     "text": [
      "\n",
      "Hi everyone \n",
      "This is harsh shrivastava\n",
      "\n",
      "r\n",
      "t\n",
      "\n",
      "Hi eve\n",
      "\n",
      "Hi everyone \n",
      "This is harsh shrivastava\n",
      "\n",
      "\n",
      "Hi every\n",
      "ars\n"
     ]
    }
   ],
   "source": [
    "#strings - use case of '' and \"\"\n",
    "string = \"arin's girlfriend\"\n",
    "string = 'girlfriend of \"arin\"'\n",
    "\n",
    "#string in multiline\n",
    "string= '''\n",
    "Hi everyone \n",
    "This is harsh shrivastava\n",
    "'''\n",
    "#indexing goes like 0,1,2,3,4,5,6,...\n",
    "print(string)\n",
    "print(string[7])\n",
    "#negative indexing - since index of first is 0 hence last index is known as -1 index\n",
    "print(string[-5])\n",
    "#using [0:2] type indexing \n",
    "#this start the indexing from one all the way to index 1 but exclude 2\n",
    "print(string[0:7])\n",
    "print(string[0:]) # print all the char upto the end\n",
    "print(string[:9]) #assume start as 0 and take that upto 9\n",
    "#note \n",
    "#print(course)==print(course[:])\n",
    "string='harsh'\n",
    "print(name[1:-1])\n"
   ]
  },
  {
   "cell_type": "markdown",
   "metadata": {},
   "source": [
    "## Formatted string"
   ]
  },
  {
   "cell_type": "code",
   "execution_count": 12,
   "metadata": {},
   "outputs": [
    {
     "name": "stdout",
     "output_type": "stream",
     "text": [
      "harsh [shrivastava] is a coder\n",
      "harsh [shrivastava] is a coder\n"
     ]
    }
   ],
   "source": [
    "first = \"harsh\"\n",
    "last = \"shrivastava\"\n",
    "message = first + ' [' + last +'] is a coder'\n",
    "print(message) \n",
    "msg = f'{first} [{last}] is a coder'\n",
    "print(msg)"
   ]
  },
  {
   "cell_type": "markdown",
   "metadata": {},
   "source": [
    "## String Methods"
   ]
  },
  {
   "cell_type": "code",
   "execution_count": 18,
   "metadata": {},
   "outputs": [
    {
     "name": "stdout",
     "output_type": "stream",
     "text": [
      "27\n",
      "DOES ARIN HAVE A GIRLFRIEND\n",
      "does arin have a girlfriend\n",
      "17\n",
      "yes, arin have a girlfriend\n",
      "does Arin hAve A girlfriend\n",
      "True\n"
     ]
    }
   ],
   "source": [
    "string = \"does arin have a girlfriend\"\n",
    "print(len(string)) #gives lenght \n",
    "print(string.upper()) #return string in uuper case \n",
    "print(string.lower()) #return sting in lower case\n",
    "#this does't change original string infact return a duplicate string\n",
    "print(string.find('girlfriend'))\n",
    "print(string.replace('does','yes,'))\n",
    "print(string.replace('a', 'A'))\n",
    "print('arin' in string) #CASE SENSITIVE\n"
   ]
  }
 ],
 "metadata": {
  "kernelspec": {
   "display_name": "Python 3",
   "language": "python",
   "name": "python3"
  },
  "language_info": {
   "codemirror_mode": {
    "name": "ipython",
    "version": 3
   },
   "file_extension": ".py",
   "mimetype": "text/x-python",
   "name": "python",
   "nbconvert_exporter": "python",
   "pygments_lexer": "ipython3",
   "version": "3.11.2"
  },
  "orig_nbformat": 4
 },
 "nbformat": 4,
 "nbformat_minor": 2
}
