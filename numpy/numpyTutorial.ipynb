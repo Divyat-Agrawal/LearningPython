{
 "cells": [
  {
   "cell_type": "markdown",
   "id": "6e0a852a-d9ce-498a-ac0c-ce771f414a75",
   "metadata": {},
   "source": [
    "## Welcome to numpy tutorial"
   ]
  },
  {
   "cell_type": "code",
   "execution_count": 1,
   "id": "88539d8c-955c-4fa1-bd61-fe1e093af23a",
   "metadata": {},
   "outputs": [],
   "source": [
    "import numpy as np"
   ]
  },
  {
   "cell_type": "code",
   "execution_count": 2,
   "id": "edcea7f4-999c-4d0e-9860-8f0d8af64ff0",
   "metadata": {},
   "outputs": [],
   "source": [
    "myarr = np.array([[3,6,32,7],[3,3,3,3]],np.int8)"
   ]
  },
  {
   "cell_type": "code",
   "execution_count": 3,
   "id": "e6e70118-5d39-4b11-b091-0f80f4fe6baf",
   "metadata": {},
   "outputs": [
    {
     "data": {
      "text/plain": [
       "(2, 4)"
      ]
     },
     "execution_count": 3,
     "metadata": {},
     "output_type": "execute_result"
    }
   ],
   "source": [
    "myarr.shape"
   ]
  },
  {
   "cell_type": "code",
   "execution_count": 4,
   "id": "0c95bab5-677c-4803-ad08-9bbcbf59f775",
   "metadata": {},
   "outputs": [
    {
     "data": {
      "text/plain": [
       "3"
      ]
     },
     "execution_count": 4,
     "metadata": {},
     "output_type": "execute_result"
    }
   ],
   "source": [
    "myarr[1,3]"
   ]
  },
  {
   "cell_type": "markdown",
   "id": "82979764-6a52-4fca-9d52-c7770534a0e4",
   "metadata": {},
   "source": [
    "## conversion from other array structures"
   ]
  },
  {
   "cell_type": "code",
   "execution_count": 5,
   "id": "8311cb18-1ca8-4a94-864d-be328755812e",
   "metadata": {},
   "outputs": [],
   "source": [
    "listArray  = np.array([[1,2,3],[5,8,5],[0,3,1]])"
   ]
  },
  {
   "cell_type": "code",
   "execution_count": 6,
   "id": "0ff8c1a1-04b6-4ea5-9a54-01ee37e25b44",
   "metadata": {},
   "outputs": [
    {
     "data": {
      "text/plain": [
       "array([[1, 2, 3],\n",
       "       [5, 8, 5],\n",
       "       [0, 3, 1]])"
      ]
     },
     "execution_count": 6,
     "metadata": {},
     "output_type": "execute_result"
    }
   ],
   "source": [
    "listArray "
   ]
  },
  {
   "cell_type": "code",
   "execution_count": 7,
   "id": "6f79036b-9005-4253-b220-aecb9ee0ec6c",
   "metadata": {},
   "outputs": [
    {
     "data": {
      "text/plain": [
       "(3, 3)"
      ]
     },
     "execution_count": 7,
     "metadata": {},
     "output_type": "execute_result"
    }
   ],
   "source": [
    "listArray.shape"
   ]
  },
  {
   "cell_type": "code",
   "execution_count": 8,
   "id": "1bff8c96-ad5f-47cc-a43c-3fce7d37f2b3",
   "metadata": {},
   "outputs": [
    {
     "data": {
      "text/plain": [
       "9"
      ]
     },
     "execution_count": 8,
     "metadata": {},
     "output_type": "execute_result"
    }
   ],
   "source": [
    "listArray.size"
   ]
  },
  {
   "cell_type": "code",
   "execution_count": 10,
   "id": "b1a5be00-969b-4a3b-a2a8-11259d66d8d5",
   "metadata": {},
   "outputs": [
    {
     "data": {
      "text/plain": [
       "array({34, 23}, dtype=object)"
      ]
     },
     "execution_count": 10,
     "metadata": {},
     "output_type": "execute_result"
    }
   ],
   "source": [
    "np.array({34,23,23}) #inefficient"
   ]
  },
  {
   "cell_type": "markdown",
   "id": "2027d839-2ee0-4619-aecf-fb4ec64e0baf",
   "metadata": {},
   "source": [
    "## intrinsic numpy array creation objects"
   ]
  },
  {
   "cell_type": "code",
   "execution_count": 35,
   "id": "0f2f52b3-1b05-4d22-a679-51f837fd8693",
   "metadata": {},
   "outputs": [],
   "source": [
    "zeros_array = np.zeros(0)"
   ]
  },
  {
   "cell_type": "code",
   "execution_count": 34,
   "id": "e093bb9f-1e54-4aff-ab55-ec2b4a879927",
   "metadata": {},
   "outputs": [
    {
     "data": {
      "text/plain": [
       "array([], dtype=float64)"
      ]
     },
     "execution_count": 34,
     "metadata": {},
     "output_type": "execute_result"
    }
   ],
   "source": [
    "zeros_array"
   ]
  },
  {
   "cell_type": "code",
   "execution_count": 36,
   "id": "c84c3802-5a9f-4023-a048-d820e7d76fe8",
   "metadata": {},
   "outputs": [],
   "source": [
    "rng = np.arange(15)"
   ]
  },
  {
   "cell_type": "code",
   "execution_count": 37,
   "id": "02fbbf69-4b83-4f29-9768-65a7fc1a6a1b",
   "metadata": {},
   "outputs": [
    {
     "data": {
      "text/plain": [
       "array([ 0,  1,  2,  3,  4,  5,  6,  7,  8,  9, 10, 11, 12, 13, 14])"
      ]
     },
     "execution_count": 37,
     "metadata": {},
     "output_type": "execute_result"
    }
   ],
   "source": [
    "rng"
   ]
  },
  {
   "cell_type": "code",
   "execution_count": 53,
   "id": "bafe901b-91ea-4f27-9a83-b42ceedb40e8",
   "metadata": {},
   "outputs": [],
   "source": [
    "lspace = np.linspace(1,10,10)"
   ]
  },
  {
   "cell_type": "code",
   "execution_count": 54,
   "id": "2efa535f-8f8d-4dde-b8e9-c57637864e34",
   "metadata": {},
   "outputs": [
    {
     "data": {
      "text/plain": [
       "array([ 1.,  2.,  3.,  4.,  5.,  6.,  7.,  8.,  9., 10.])"
      ]
     },
     "execution_count": 54,
     "metadata": {},
     "output_type": "execute_result"
    }
   ],
   "source": [
    "    \n",
    "lspace"
   ]
  },
  {
   "cell_type": "code",
   "execution_count": 58,
   "id": "2ac48ef9-b9e5-4cb7-bab4-706d5a3c1c52",
   "metadata": {},
   "outputs": [],
   "source": [
    "emp = np.empty((4,6))"
   ]
  },
  {
   "cell_type": "code",
   "execution_count": 59,
   "id": "d2c54882-7e5d-425e-8c76-918953d82e04",
   "metadata": {},
   "outputs": [
    {
     "data": {
      "text/plain": [
       "array([[6.23042070e-307, 4.67296746e-307, 1.69121096e-306,\n",
       "        6.23058707e-307, 2.22526399e-307, 6.23053614e-307],\n",
       "       [7.56592338e-307, 1.60216183e-306, 7.56602523e-307,\n",
       "        3.56043054e-307, 1.37961641e-306, 2.22518251e-306],\n",
       "       [1.33511969e-306, 6.23036978e-307, 6.23053954e-307,\n",
       "        9.34609790e-307, 8.45593934e-307, 9.34600963e-307],\n",
       "       [1.86921143e-306, 6.23061763e-307, 8.90104239e-307,\n",
       "        6.89804132e-307, 1.11261162e-306, 8.34443015e-308]])"
      ]
     },
     "execution_count": 59,
     "metadata": {},
     "output_type": "execute_result"
    }
   ],
   "source": [
    "emp"
   ]
  },
  {
   "cell_type": "code",
   "execution_count": 61,
   "id": "913e86db-9afb-42cf-9a64-cb275a73d2f5",
   "metadata": {},
   "outputs": [],
   "source": [
    "emp_like = np.empty_like(lspace)"
   ]
  },
  {
   "cell_type": "code",
   "execution_count": 62,
   "id": "b316c72b-b144-4451-88f8-6e7fa25f3d9d",
   "metadata": {},
   "outputs": [
    {
     "data": {
      "text/plain": [
       "array([ 1.,  2.,  3.,  4.,  5.,  6.,  7.,  8.,  9., 10.])"
      ]
     },
     "execution_count": 62,
     "metadata": {},
     "output_type": "execute_result"
    }
   ],
   "source": [
    "emp_like"
   ]
  },
  {
   "cell_type": "code",
   "execution_count": 63,
   "id": "fc136161-0ca2-4d9a-9e43-3a479249741b",
   "metadata": {},
   "outputs": [],
   "source": [
    "a = emp_like"
   ]
  },
  {
   "cell_type": "code",
   "execution_count": 64,
   "id": "df9e4bf9-6dbd-4570-b288-93601e380152",
   "metadata": {},
   "outputs": [
    {
     "data": {
      "text/plain": [
       "array([ 1.,  2.,  3.,  4.,  5.,  6.,  7.,  8.,  9., 10.])"
      ]
     },
     "execution_count": 64,
     "metadata": {},
     "output_type": "execute_result"
    }
   ],
   "source": [
    "a"
   ]
  },
  {
   "cell_type": "code",
   "execution_count": 65,
   "id": "5b680a4e-0bc1-4bdc-8c7e-22014ee12b9b",
   "metadata": {},
   "outputs": [],
   "source": [
    "ide = np.identity(4)"
   ]
  },
  {
   "cell_type": "code",
   "execution_count": 66,
   "id": "38990de8-8559-432e-9980-1640d5fc77a2",
   "metadata": {},
   "outputs": [
    {
     "data": {
      "text/plain": [
       "array([[1., 0., 0., 0.],\n",
       "       [0., 1., 0., 0.],\n",
       "       [0., 0., 1., 0.],\n",
       "       [0., 0., 0., 1.]])"
      ]
     },
     "execution_count": 66,
     "metadata": {},
     "output_type": "execute_result"
    }
   ],
   "source": [
    "ide"
   ]
  },
  {
   "cell_type": "code",
   "execution_count": 67,
   "id": "0cf7aedb-86ef-48ef-a209-02a6be692e1c",
   "metadata": {},
   "outputs": [],
   "source": [
    "array = np.identity(4)"
   ]
  },
  {
   "cell_type": "code",
   "execution_count": 68,
   "id": "0912a31e-90da-49f0-8733-2e1988a72df7",
   "metadata": {},
   "outputs": [
    {
     "data": {
      "text/plain": [
       "array([[1., 0., 0., 0.],\n",
       "       [0., 1., 0., 0.],\n",
       "       [0., 0., 1., 0.],\n",
       "       [0., 0., 0., 1.]])"
      ]
     },
     "execution_count": 68,
     "metadata": {},
     "output_type": "execute_result"
    }
   ],
   "source": [
    "array"
   ]
  },
  {
   "cell_type": "code",
   "execution_count": 69,
   "id": "a65661a5-96cc-47c2-bb82-1ea84c623d20",
   "metadata": {},
   "outputs": [],
   "source": [
    "array = np.arange(20)"
   ]
  },
  {
   "cell_type": "code",
   "execution_count": 70,
   "id": "926461aa-d00c-4384-855b-dfdb5cc30725",
   "metadata": {},
   "outputs": [
    {
     "data": {
      "text/plain": [
       "array([ 0,  1,  2,  3,  4,  5,  6,  7,  8,  9, 10, 11, 12, 13, 14, 15, 16,\n",
       "       17, 18, 19])"
      ]
     },
     "execution_count": 70,
     "metadata": {},
     "output_type": "execute_result"
    }
   ],
   "source": [
    "array"
   ]
  },
  {
   "cell_type": "code",
   "execution_count": 71,
   "id": "fd275711-54d1-46e8-b312-91d965fdba7f",
   "metadata": {},
   "outputs": [],
   "source": [
    "emp_like = np.empty_like(array)"
   ]
  },
  {
   "cell_type": "code",
   "execution_count": 72,
   "id": "971c5f6c-d39e-4398-b12b-9cd9d4a73bd6",
   "metadata": {},
   "outputs": [
    {
     "data": {
      "text/plain": [
       "array([         0, 1072693248,          0, 1073741824,          0,\n",
       "       1074266112,          0, 1074790400,          0, 1075052544,\n",
       "                0, 1075314688,          0, 1075576832,          0,\n",
       "       1075838976,          0, 1075970048,          0, 1076101120])"
      ]
     },
     "execution_count": 72,
     "metadata": {},
     "output_type": "execute_result"
    }
   ],
   "source": [
    "emp_like"
   ]
  },
  {
   "cell_type": "code",
   "execution_count": 76,
   "id": "30995b67-a1e1-431d-b743-2903f24406d7",
   "metadata": {},
   "outputs": [],
   "source": [
    "emp_like = np.empty_like([2,2,2,1,1,3,2])"
   ]
  },
  {
   "cell_type": "code",
   "execution_count": 77,
   "id": "3ae3b84c-230f-40b8-b779-4b6f396e7e82",
   "metadata": {},
   "outputs": [
    {
     "data": {
      "text/plain": [
       "array([         0,          0, 1451522880,        482, 1451522560,\n",
       "              482, 1451522752])"
      ]
     },
     "execution_count": 77,
     "metadata": {},
     "output_type": "execute_result"
    }
   ],
   "source": [
    "emp_like"
   ]
  },
  {
   "cell_type": "code",
   "execution_count": 78,
   "id": "18b89830-2ef0-437d-a936-115c03e101ee",
   "metadata": {},
   "outputs": [],
   "source": [
    "a2 = np"
   ]
  },
  {
   "cell_type": "code",
   "execution_count": 79,
   "id": "af42dbf3-3265-48ce-91cb-6c1bd750b88c",
   "metadata": {},
   "outputs": [
    {
     "data": {
      "text/plain": [
       "array([[1., 0., 0.],\n",
       "       [0., 1., 0.],\n",
       "       [0., 0., 1.]])"
      ]
     },
     "execution_count": 79,
     "metadata": {},
     "output_type": "execute_result"
    }
   ],
   "source": [
    "a1"
   ]
  },
  {
   "cell_type": "code",
   "execution_count": 89,
   "id": "da55e1f2-8fbc-495d-9be6-e1a8bd6bab31",
   "metadata": {},
   "outputs": [],
   "source": [
    "a1 = np.arange(9).reshape(3,3)"
   ]
  },
  {
   "cell_type": "code",
   "execution_count": 90,
   "id": "16f6f9d3-149a-485d-93dd-322fd46f758c",
   "metadata": {},
   "outputs": [],
   "source": [
    "a2 = np.arange(9).reshape(3,3)"
   ]
  },
  {
   "cell_type": "code",
   "execution_count": 91,
   "id": "492d9e86-b7bf-49b6-83e9-c8e4620cb7d4",
   "metadata": {},
   "outputs": [],
   "source": [
    "product = np.dot(a1,a2)"
   ]
  },
  {
   "cell_type": "code",
   "execution_count": 92,
   "id": "282202d9-06aa-4982-b851-bfd6a08480bb",
   "metadata": {},
   "outputs": [
    {
     "data": {
      "text/plain": [
       "array([[ 15,  18,  21],\n",
       "       [ 42,  54,  66],\n",
       "       [ 69,  90, 111]])"
      ]
     },
     "execution_count": 92,
     "metadata": {},
     "output_type": "execute_result"
    }
   ],
   "source": [
    "product"
   ]
  },
  {
   "cell_type": "code",
   "execution_count": 93,
   "id": "2f346e1f-d6d8-4720-bce3-567a2718ac72",
   "metadata": {},
   "outputs": [],
   "source": [
    "sum  = a1 + a2"
   ]
  },
  {
   "cell_type": "code",
   "execution_count": 94,
   "id": "527bc377-4066-42de-8727-e7aecf86f095",
   "metadata": {},
   "outputs": [
    {
     "data": {
      "text/plain": [
       "array([[ 0,  2,  4],\n",
       "       [ 6,  8, 10],\n",
       "       [12, 14, 16]])"
      ]
     },
     "execution_count": 94,
     "metadata": {},
     "output_type": "execute_result"
    }
   ],
   "source": [
    "sum"
   ]
  },
  {
   "cell_type": "code",
   "execution_count": 95,
   "id": "6dc08f37-7aba-402a-b7a1-8390eeb96b35",
   "metadata": {},
   "outputs": [],
   "source": [
    "arr = np.array([1, 2, 3, 4, 5])"
   ]
  },
  {
   "cell_type": "code",
   "execution_count": 96,
   "id": "fd72be9c-913f-43cb-896d-c0889e779839",
   "metadata": {},
   "outputs": [
    {
     "data": {
      "text/plain": [
       "3"
      ]
     },
     "execution_count": 96,
     "metadata": {},
     "output_type": "execute_result"
    }
   ],
   "source": [
    "arr[-3]"
   ]
  },
  {
   "cell_type": "code",
   "execution_count": 97,
   "id": "2c801e5f-751f-47c8-8cd8-24b26d1bc471",
   "metadata": {},
   "outputs": [
    {
     "data": {
      "text/plain": [
       "array([2, 3, 4])"
      ]
     },
     "execution_count": 97,
     "metadata": {},
     "output_type": "execute_result"
    }
   ],
   "source": [
    "arr[1:-1]\n"
   ]
  },
  {
   "cell_type": "code",
   "execution_count": 98,
   "id": "b5ea2958-9cf5-4387-8e32-db95ac940544",
   "metadata": {},
   "outputs": [
    {
     "data": {
      "text/plain": [
       "array([], dtype=int32)"
      ]
     },
     "execution_count": 98,
     "metadata": {},
     "output_type": "execute_result"
    }
   ],
   "source": [
    "arr[4:-5]"
   ]
  },
  {
   "cell_type": "code",
   "execution_count": 99,
   "id": "a8566491-277e-4023-bde0-6ae02a0e6565",
   "metadata": {},
   "outputs": [
    {
     "data": {
      "text/plain": [
       "array([1, 2, 3, 4])"
      ]
     },
     "execution_count": 99,
     "metadata": {},
     "output_type": "execute_result"
    }
   ],
   "source": [
    "arr[-5:4]"
   ]
  },
  {
   "cell_type": "code",
   "execution_count": 100,
   "id": "e258d2c9-178e-43ae-8707-de28720ce7cf",
   "metadata": {},
   "outputs": [
    {
     "data": {
      "text/plain": [
       "array([2, 3, 4])"
      ]
     },
     "execution_count": 100,
     "metadata": {},
     "output_type": "execute_result"
    }
   ],
   "source": [
    "arr[1:4]\n"
   ]
  },
  {
   "cell_type": "code",
   "execution_count": 101,
   "id": "1118b864-dcfb-4dfe-8be1-46403292aa57",
   "metadata": {},
   "outputs": [
    {
     "data": {
      "text/plain": [
       "array([], dtype=int32)"
      ]
     },
     "execution_count": 101,
     "metadata": {},
     "output_type": "execute_result"
    }
   ],
   "source": [
    "arr[-1:-4]"
   ]
  },
  {
   "cell_type": "code",
   "execution_count": 102,
   "id": "48becd34-af9b-4ffe-a291-05c6433ee7fb",
   "metadata": {},
   "outputs": [
    {
     "data": {
      "text/plain": [
       "array([4, 5])"
      ]
     },
     "execution_count": 102,
     "metadata": {},
     "output_type": "execute_result"
    }
   ],
   "source": [
    "arr[-2:]"
   ]
  },
  {
   "cell_type": "code",
   "execution_count": 103,
   "id": "40bc1f43-8ea3-4041-88f7-586b5865e2fd",
   "metadata": {},
   "outputs": [],
   "source": [
    "mask = arr>3"
   ]
  },
  {
   "cell_type": "code",
   "execution_count": 104,
   "id": "51e6f762-2207-4b48-b204-ac6d8171b136",
   "metadata": {},
   "outputs": [
    {
     "data": {
      "text/plain": [
       "array([False, False, False,  True,  True])"
      ]
     },
     "execution_count": 104,
     "metadata": {},
     "output_type": "execute_result"
    }
   ],
   "source": [
    "mask"
   ]
  },
  {
   "cell_type": "code",
   "execution_count": 105,
   "id": "bfd3b855-6f5c-404f-8b5a-63a8ba49ec3a",
   "metadata": {},
   "outputs": [
    {
     "data": {
      "text/plain": [
       "array([4, 5])"
      ]
     },
     "execution_count": 105,
     "metadata": {},
     "output_type": "execute_result"
    }
   ],
   "source": [
    "arr[mask]"
   ]
  },
  {
   "cell_type": "code",
   "execution_count": null,
   "id": "b1b2787e-7ee1-45db-a0ce-a4afb15ba46e",
   "metadata": {},
   "outputs": [],
   "source": []
  },
  {
   "cell_type": "code",
   "execution_count": null,
   "id": "c96b8e69-00bc-4b84-a6e3-e68ad5212340",
   "metadata": {},
   "outputs": [],
   "source": []
  }
 ],
 "metadata": {
  "kernelspec": {
   "display_name": "Python 3 (ipykernel)",
   "language": "python",
   "name": "python3"
  },
  "language_info": {
   "codemirror_mode": {
    "name": "ipython",
    "version": 3
   },
   "file_extension": ".py",
   "mimetype": "text/x-python",
   "name": "python",
   "nbconvert_exporter": "python",
   "pygments_lexer": "ipython3",
   "version": "3.10.8"
  }
 },
 "nbformat": 4,
 "nbformat_minor": 5
}
