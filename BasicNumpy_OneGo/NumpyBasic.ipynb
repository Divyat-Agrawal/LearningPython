{
 "cells": [
  {
   "cell_type": "code",
   "execution_count": 1,
   "metadata": {},
   "outputs": [],
   "source": [
    "import numpy as np"
   ]
  },
  {
   "cell_type": "markdown",
   "metadata": {},
   "source": [
    "# Arrays\n",
    "A numpy array is a grid of values, all of the same type, and is indexed by a tuple of nonnegative\n",
    "integers. \n",
    "The number of dimensions is the rank of the array; \n",
    "The shape of an array is a tuple of\n",
    "integers giving the size of the array along each dimension"
   ]
  },
  {
   "cell_type": "code",
   "execution_count": 9,
   "metadata": {},
   "outputs": [
    {
     "name": "stdout",
     "output_type": "stream",
     "text": [
      "<class 'numpy.ndarray'> (3,) 1 2 3\n",
      "[5 2 3]\n",
      "\n",
      "[[1 2 3]\n",
      " [4 5 6]]\n",
      "(2, 3)\n",
      "1 2 4\n"
     ]
    }
   ],
   "source": [
    "a = np.array([1, 2, 3]) # Create a rank 1 array\n",
    "print(type(a), a.shape, a[0], a[1], a[2])\n",
    "a[0] = 5 # Change an element of the array\n",
    "print(a)\n",
    "\n",
    "b = np.array([[1,2,3],[4,5,6]]) # Create a rank 2 array\n",
    "print(f'\\n{b}')\n",
    "print(b.shape)\n",
    "print(b[0, 0], b[0, 1], b[1, 0])\n"
   ]
  },
  {
   "cell_type": "code",
   "execution_count": 28,
   "metadata": {},
   "outputs": [
    {
     "name": "stdout",
     "output_type": "stream",
     "text": [
      "[[0. 0.]\n",
      " [0. 0.]]\n",
      "[[1. 1.]\n",
      " [1. 1.]]\n",
      "[[7 7]\n",
      " [7 7]]\n",
      "[[1. 0.]\n",
      " [0. 1.]]\n",
      "[[0.26619669 0.25748599]\n",
      " [0.52105051 0.73366633]]\n"
     ]
    }
   ],
   "source": [
    "#Creating Numpyarray of zeros\n",
    "a = np.zeros((2,2)) # Create an array of all zeros\n",
    "print(a)\n",
    "\n",
    "#Creating Numpyarray of ones\n",
    "b = np.ones((2,2)) # Create an array of all ones\n",
    "print(b)\n",
    "\n",
    "#Creating Numpyarray of const value\n",
    "c = np.full((2,2), 7) # Create a constant array\n",
    "print(c)\n",
    "\n",
    "#Creating Numpyarray of identity matrix\n",
    "d = np.eye(2,2) # Create a 2x2 identity matrix\n",
    "print(d)\n",
    "\n",
    "#Creating Numpyarray of random matrix\n",
    "e = np.random.random((2,2)) # Create an array filled with random values\n",
    "print(e)\n"
   ]
  },
  {
   "cell_type": "markdown",
   "metadata": {},
   "source": [
    "## Array Indexing\n",
    "Slicing: Similar to Python lists, numpy arrays can be sliced. Since arrays may be multidimensional,\n",
    "you must specify a slice for each dimension of the array:\n"
   ]
  },
  {
   "cell_type": "code",
   "execution_count": 30,
   "metadata": {},
   "outputs": [
    {
     "name": "stdout",
     "output_type": "stream",
     "text": [
      "[[2 3]\n",
      " [6 7]]\n"
     ]
    }
   ],
   "source": [
    "a = np.array([[1,2,3,4], [5,6,7,8], [9,10,11,12]])\n",
    "b = a[:2, 1:3]\n",
    "print(b)\n",
    "\n",
    "#A slice of an array is a view into the same data, so modifying it will modify the original array."
   ]
  },
  {
   "cell_type": "markdown",
   "metadata": {},
   "source": [
    "## np.arnage\n",
    "The numpy.arange() function is used to generate an array with evenly spaced values within a specified interval. The function returns a one-dimensional array of type numpy.ndarray."
   ]
  },
  {
   "cell_type": "code",
   "execution_count": 31,
   "metadata": {},
   "outputs": [
    {
     "name": "stdout",
     "output_type": "stream",
     "text": [
      "[[False False]\n",
      " [ True  True]\n",
      " [ True  True]]\n"
     ]
    }
   ],
   "source": [
    "a = np.array([[1,2], [3, 4], [5, 6]])\n",
    "bool_idx = (a > 2) # Find the elements of a that are bigger than 2;\n",
    "# this returns a numpy array of Booleans of the same\n",
    "# shape as a, where each slot of bool_idx tells\n",
    "# whether that element of a is > 2.\n",
    "print (bool_idx)"
   ]
  },
  {
   "cell_type": "markdown",
   "metadata": {},
   "source": [
    "## Forcing datatype in numpy arrya"
   ]
  },
  {
   "cell_type": "code",
   "execution_count": null,
   "metadata": {},
   "outputs": [],
   "source": [
    "x = np.array([1, 2]) # Let numpy choose the datatype\n",
    "y = np.array([1.0, 2.0]) # Let numpy choose the datatype\n",
    "z = np.array([1, 2], dtype=np.int64) # Force a particular datatype\n",
    "print (x.dtype, y.dtype, z.dtype)"
   ]
  },
  {
   "cell_type": "markdown",
   "metadata": {},
   "source": [
    "## operations on the numpy array"
   ]
  },
  {
   "cell_type": "code",
   "execution_count": null,
   "metadata": {},
   "outputs": [],
   "source": [
    "x = np.array([[1,2],[3,4]], dtype=np.float64)\n",
    "y = np.array([[5,6],[7,8]], dtype=np.float64)\n",
    "# Elementwise sum; both produce the array\n",
    "print x + y\n",
    "print np.add(x, y)\n",
    "\n",
    "# Elementwise difference; both produce the array\n",
    "print x - y\n",
    "print np.subtract(x, y)\n",
    "\n",
    "# Elementwise product; both produce the array\n",
    "print x * y\n",
    "print np.multiply(x, y)\n",
    "\n",
    "# Elementwise division; both produce the array\n",
    "# [[ 0.2 0.33333333]\n",
    "# [ 0.42857143 0.5 ]]\n",
    "print x / y\n",
    "print np.divide(x, y)\n"
   ]
  },
  {
   "cell_type": "code",
   "execution_count": null,
   "metadata": {},
   "outputs": [],
   "source": [
    "arr = np.array([9, 5, 2, 7, 1, 8, 3, 6, 4])\n",
    "# Sort the array in ascending order\n",
    "sorted_arr = np.sort(arr)\n",
    "print(\"Original array:\", arr)\n",
    "print(\"Sorted array:\", sorted_arr)\n",
    "\n",
    "\n",
    "# Create a 2D NumPy array\n",
    "arr_2d = np.array([[9, 5, 2],\n",
    "[7, 1, 8],\n",
    "[3, 6, 4]])\n",
    "# Sort the 2D array along rows (axis=1)\n",
    "sorted_arr_row = np.sort(arr_2d, axis=1)\n",
    "# Sort the 2D array along columns (axis=0)\n",
    "sorted_arr_col = np.sort(arr_2d, axis=0)\n",
    "10\n",
    "# sort the flattened array\n",
    "sorted_arr_flat = np.sort(arr_2d, axis=None)\n",
    "print(\"Original 2D array:\")\n",
    "print(arr_2d)\n",
    "print(\"\\nSorted 2D array along rows:\")\n",
    "print(sorted_arr_row)\n",
    "print(\"\\nSorted 2D array along columns:\")\n",
    "print(sorted_arr_col)\n",
    "print(\"\\nSorted 2D array flaten:\")\n",
    "print(sorted_arr_flat)"
   ]
  }
 ],
 "metadata": {
  "kernelspec": {
   "display_name": "Python 3",
   "language": "python",
   "name": "python3"
  },
  "language_info": {
   "codemirror_mode": {
    "name": "ipython",
    "version": 3
   },
   "file_extension": ".py",
   "mimetype": "text/x-python",
   "name": "python",
   "nbconvert_exporter": "python",
   "pygments_lexer": "ipython3",
   "version": "3.11.2"
  },
  "orig_nbformat": 4
 },
 "nbformat": 4,
 "nbformat_minor": 2
}
