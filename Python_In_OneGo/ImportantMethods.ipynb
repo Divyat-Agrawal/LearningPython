{
 "cells": [
  {
   "cell_type": "markdown",
   "metadata": {},
   "source": [
    "## spliting the string into different words form space\n"
   ]
  },
  {
   "cell_type": "code",
   "execution_count": 3,
   "metadata": {},
   "outputs": [
    {
     "name": "stdout",
     "output_type": "stream",
     "text": [
      "['harsh', 'is', 'a', 'smart', 'guy'] ['harsh', 'is', 'a', 'smart', 'guy']\n"
     ]
    }
   ],
   "source": [
    "message = \"harsh is a smart guy\"\n",
    "words = message.split(' ') # split from space\n",
    "words2 = message.split() #if we dont specify delimiter\n",
    "print(words , words2)"
   ]
  },
  {
   "cell_type": "markdown",
   "metadata": {},
   "source": [
    "## custom delimiter\n"
   ]
  },
  {
   "cell_type": "code",
   "execution_count": 1,
   "metadata": {},
   "outputs": [
    {
     "name": "stdout",
     "output_type": "stream",
     "text": [
      "['', 'i i am ', 'ars', ' s', 'rivastava i got so muc', ' rizz']\n"
     ]
    }
   ],
   "source": [
    "message = \"hi i am harsh shrivastava i got so much rizz\"\n",
    "print(message.split('h'))"
   ]
  },
  {
   "cell_type": "markdown",
   "metadata": {},
   "source": []
  }
 ],
 "metadata": {
  "kernelspec": {
   "display_name": "Python 3",
   "language": "python",
   "name": "python3"
  },
  "language_info": {
   "codemirror_mode": {
    "name": "ipython",
    "version": 3
   },
   "file_extension": ".py",
   "mimetype": "text/x-python",
   "name": "python",
   "nbconvert_exporter": "python",
   "pygments_lexer": "ipython3",
   "version": "3.10.8"
  },
  "orig_nbformat": 4
 },
 "nbformat": 4,
 "nbformat_minor": 2
}
