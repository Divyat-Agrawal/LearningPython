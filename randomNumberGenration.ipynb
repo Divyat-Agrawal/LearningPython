{
 "cells": [
  {
   "cell_type": "markdown",
   "id": "37b061a1-b9c7-4173-956e-e55fafa8348d",
   "metadata": {},
   "source": [
    "## playing with random numbers\n"
   ]
  },
  {
   "cell_type": "code",
   "execution_count": 1,
   "id": "c0ee8e14-3450-4bbd-9eb3-e208d986ab27",
   "metadata": {},
   "outputs": [],
   "source": [
    "import random \n",
    "import math\n",
    "import numpy as np"
   ]
  },
  {
   "cell_type": "code",
   "execution_count": 2,
   "id": "844e618d-5599-4f09-9ef7-de7d93f6ac3d",
   "metadata": {},
   "outputs": [
    {
     "name": "stdout",
     "output_type": "stream",
     "text": [
      "14 15 14.297181118026058\n"
     ]
    }
   ],
   "source": [
    "randomNum = random.random()*100\n",
    "print(math.floor(randomNum),math.ceil(randomNum),randomNum)"
   ]
  },
  {
   "cell_type": "code",
   "execution_count": 3,
   "id": "4420ed30-4e03-4780-bf19-9a635aa08902",
   "metadata": {},
   "outputs": [
    {
     "name": "stdout",
     "output_type": "stream",
     "text": [
      "[ 0  2  4  6  8 10 12 14 16 18 20 22]\n"
     ]
    }
   ],
   "source": [
    "a1 = np.arange(12)\n",
    "a2 = np.arange(12)\n",
    "print(np.add(a2,a1))"
   ]
  },
  {
   "cell_type": "code",
   "execution_count": 4,
   "id": "0a153027-6d6d-429e-af1b-550e7a5c9e80",
   "metadata": {},
   "outputs": [],
   "source": [
    "a2 = np.arange(13)"
   ]
  },
  {
   "cell_type": "code",
   "execution_count": 6,
   "id": "99ad4541-ceca-410d-8fc9-33c8217c5684",
   "metadata": {},
   "outputs": [],
   "source": [
    "# print(np.add(a2,a1)) #it will throw error coz the no. of elemet must be same "
   ]
  },
  {
   "cell_type": "code",
   "execution_count": 11,
   "id": "acbdd6c8-70b4-48bf-9096-b08384fc275a",
   "metadata": {},
   "outputs": [],
   "source": [
    "a1 = np.add(np.identity(2) , np.identity(2))"
   ]
  },
  {
   "cell_type": "code",
   "execution_count": 8,
   "id": "5783c9f9-675b-4dfc-8bf2-9ada91fabce3",
   "metadata": {},
   "outputs": [
    {
     "name": "stdout",
     "output_type": "stream",
     "text": [
      "[[2. 0.]\n",
      " [0. 2.]]\n"
     ]
    }
   ],
   "source": [
    "print(a1)"
   ]
  },
  {
   "cell_type": "code",
   "execution_count": 9,
   "id": "bb6622df-7490-459e-a0c0-1ea4f8c38ab2",
   "metadata": {},
   "outputs": [],
   "source": [
    "a1 = np.cos(a1)"
   ]
  },
  {
   "cell_type": "code",
   "execution_count": 10,
   "id": "89c68c31-c3eb-4015-8ca8-bd0e0424609c",
   "metadata": {},
   "outputs": [
    {
     "data": {
      "text/plain": [
       "array([[-0.41614684,  1.        ],\n",
       "       [ 1.        , -0.41614684]])"
      ]
     },
     "execution_count": 10,
     "metadata": {},
     "output_type": "execute_result"
    }
   ],
   "source": [
    "a1"
   ]
  },
  {
   "cell_type": "code",
   "execution_count": 17,
   "id": "2463a383-0a61-40f7-8ac9-507e8d31e37b",
   "metadata": {},
   "outputs": [],
   "source": [
    "a1 = np.reciprocal(a1)"
   ]
  },
  {
   "cell_type": "code",
   "execution_count": 19,
   "id": "37adb9b5-01ee-4d0b-8468-562a4c56dc95",
   "metadata": {},
   "outputs": [],
   "source": [
    "a1 = np.arange(13)"
   ]
  },
  {
   "cell_type": "code",
   "execution_count": 21,
   "id": "45a266e8-bcf1-479a-a66e-3dabe5166dac",
   "metadata": {},
   "outputs": [],
   "source": [
    "a1 = np.multiply(a1,a2)"
   ]
  },
  {
   "cell_type": "code",
   "execution_count": 22,
   "id": "7d21baf1-ddc2-4e40-9e88-4a43112a44f0",
   "metadata": {},
   "outputs": [
    {
     "data": {
      "text/plain": [
       "array([  0,   1,   4,   9,  16,  25,  36,  49,  64,  81, 100, 121, 144])"
      ]
     },
     "execution_count": 22,
     "metadata": {},
     "output_type": "execute_result"
    }
   ],
   "source": [
    "a1"
   ]
  },
  {
   "cell_type": "code",
   "execution_count": 28,
   "id": "0955ba0b-899f-4c47-81e0-4196cc903366",
   "metadata": {},
   "outputs": [],
   "source": [
    "a1[0] = 12\n"
   ]
  },
  {
   "cell_type": "code",
   "execution_count": 41,
   "id": "bba3748e-f0ba-41f3-9ce5-470ac5bbdf9c",
   "metadata": {},
   "outputs": [],
   "source": [
    "matrix = np.array([[1, 2], [3, 4]])\n",
    "matrix = np.mean(matrix)"
   ]
  },
  {
   "cell_type": "code",
   "execution_count": 42,
   "id": "1952244a-f637-4957-8c1e-9e3ebd1070bf",
   "metadata": {},
   "outputs": [
    {
     "data": {
      "text/plain": [
       "2.5"
      ]
     },
     "execution_count": 42,
     "metadata": {},
     "output_type": "execute_result"
    }
   ],
   "source": [
    "matrix"
   ]
  },
  {
   "cell_type": "code",
   "execution_count": null,
   "id": "30a12a8c-e118-40f8-a80c-4051b0f9dc2c",
   "metadata": {},
   "outputs": [],
   "source": []
  }
 ],
 "metadata": {
  "kernelspec": {
   "display_name": "Python 3 (ipykernel)",
   "language": "python",
   "name": "python3"
  },
  "language_info": {
   "codemirror_mode": {
    "name": "ipython",
    "version": 3
   },
   "file_extension": ".py",
   "mimetype": "text/x-python",
   "name": "python",
   "nbconvert_exporter": "python",
   "pygments_lexer": "ipython3",
   "version": "3.10.8"
  }
 },
 "nbformat": 4,
 "nbformat_minor": 5
}
