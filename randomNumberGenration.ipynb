{
 "cells": [
  {
   "cell_type": "markdown",
   "id": "37b061a1-b9c7-4173-956e-e55fafa8348d",
   "metadata": {},
   "source": [
    "## playing with random numbers\n"
   ]
  },
  {
   "cell_type": "code",
   "execution_count": 3,
   "id": "c0ee8e14-3450-4bbd-9eb3-e208d986ab27",
   "metadata": {},
   "outputs": [],
   "source": [
    "import random \n",
    "import math\n",
    "import numpy as np"
   ]
  },
  {
   "cell_type": "code",
   "execution_count": 2,
   "id": "844e618d-5599-4f09-9ef7-de7d93f6ac3d",
   "metadata": {},
   "outputs": [
    {
     "name": "stdout",
     "output_type": "stream",
     "text": [
      "35 36 35.42922658481673\n"
     ]
    }
   ],
   "source": [
    "randomNum = random.random()*100\n",
    "print(math.floor(randomNum),math.ceil(randomNum),randomNum)"
   ]
  },
  {
   "cell_type": "code",
   "execution_count": 3,
   "id": "4420ed30-4e03-4780-bf19-9a635aa08902",
   "metadata": {},
   "outputs": [
    {
     "name": "stdout",
     "output_type": "stream",
     "text": [
      "[ 0  2  4  6  8 10 12 14 16 18 20 22]\n"
     ]
    }
   ],
   "source": [
    "a1 = np.arange(12)\n",
    "a2 = np.arange(12)\n",
    "print(np.add(a2,a1))"
   ]
  },
  {
   "cell_type": "code",
   "execution_count": 4,
   "id": "0a153027-6d6d-429e-af1b-550e7a5c9e80",
   "metadata": {},
   "outputs": [],
   "source": [
    "a2 = np.arange(13)"
   ]
  },
  {
   "cell_type": "code",
   "execution_count": 5,
   "id": "99ad4541-ceca-410d-8fc9-33c8217c5684",
   "metadata": {},
   "outputs": [],
   "source": [
    "# print(np.add(a2,a1)) #it will throw error coz the no. of elemet must be same "
   ]
  },
  {
   "cell_type": "code",
   "execution_count": 6,
   "id": "acbdd6c8-70b4-48bf-9096-b08384fc275a",
   "metadata": {},
   "outputs": [],
   "source": [
    "a1 = np.add(np.identity(2) , np.identity(2))"
   ]
  },
  {
   "cell_type": "code",
   "execution_count": 7,
   "id": "5783c9f9-675b-4dfc-8bf2-9ada91fabce3",
   "metadata": {},
   "outputs": [
    {
     "name": "stdout",
     "output_type": "stream",
     "text": [
      "[[2. 0.]\n",
      " [0. 2.]]\n"
     ]
    }
   ],
   "source": [
    "print(a1)"
   ]
  },
  {
   "cell_type": "code",
   "execution_count": 8,
   "id": "bb6622df-7490-459e-a0c0-1ea4f8c38ab2",
   "metadata": {},
   "outputs": [],
   "source": [
    "a1 = np.cos(a1)"
   ]
  },
  {
   "cell_type": "code",
   "execution_count": 9,
   "id": "89c68c31-c3eb-4015-8ca8-bd0e0424609c",
   "metadata": {},
   "outputs": [
    {
     "data": {
      "text/plain": [
       "array([[-0.41614684,  1.        ],\n",
       "       [ 1.        , -0.41614684]])"
      ]
     },
     "execution_count": 9,
     "metadata": {},
     "output_type": "execute_result"
    }
   ],
   "source": [
    "a1"
   ]
  },
  {
   "cell_type": "code",
   "execution_count": 10,
   "id": "2463a383-0a61-40f7-8ac9-507e8d31e37b",
   "metadata": {},
   "outputs": [],
   "source": [
    "a1 = np.reciprocal(a1)"
   ]
  },
  {
   "cell_type": "code",
   "execution_count": 11,
   "id": "37adb9b5-01ee-4d0b-8468-562a4c56dc95",
   "metadata": {},
   "outputs": [],
   "source": [
    "a1 = np.arange(13)"
   ]
  },
  {
   "cell_type": "code",
   "execution_count": 12,
   "id": "45a266e8-bcf1-479a-a66e-3dabe5166dac",
   "metadata": {},
   "outputs": [],
   "source": [
    "a1 = np.multiply(a1,a2)"
   ]
  },
  {
   "cell_type": "code",
   "execution_count": 13,
   "id": "7d21baf1-ddc2-4e40-9e88-4a43112a44f0",
   "metadata": {},
   "outputs": [
    {
     "data": {
      "text/plain": [
       "array([  0,   1,   4,   9,  16,  25,  36,  49,  64,  81, 100, 121, 144])"
      ]
     },
     "execution_count": 13,
     "metadata": {},
     "output_type": "execute_result"
    }
   ],
   "source": [
    "a1"
   ]
  },
  {
   "cell_type": "code",
   "execution_count": 14,
   "id": "0955ba0b-899f-4c47-81e0-4196cc903366",
   "metadata": {},
   "outputs": [],
   "source": [
    "a1[0] = 12\n"
   ]
  },
  {
   "cell_type": "code",
   "execution_count": 15,
   "id": "bba3748e-f0ba-41f3-9ce5-470ac5bbdf9c",
   "metadata": {},
   "outputs": [],
   "source": [
    "matrix = np.array([[1, 2], [3, 4]])\n",
    "matrix = np.mean(matrix)"
   ]
  },
  {
   "cell_type": "code",
   "execution_count": 16,
   "id": "1952244a-f637-4957-8c1e-9e3ebd1070bf",
   "metadata": {},
   "outputs": [
    {
     "data": {
      "text/plain": [
       "2.5"
      ]
     },
     "execution_count": 16,
     "metadata": {},
     "output_type": "execute_result"
    }
   ],
   "source": [
    "matrix"
   ]
  },
  {
   "cell_type": "code",
   "execution_count": 21,
   "id": "30a12a8c-e118-40f8-a80c-4051b0f9dc2c",
   "metadata": {},
   "outputs": [],
   "source": [
    "a = np.linspace(0,50,20)"
   ]
  },
  {
   "cell_type": "code",
   "execution_count": 22,
   "id": "72811d1c-548c-4f4c-a5ce-48d907f03c93",
   "metadata": {},
   "outputs": [
    {
     "data": {
      "text/plain": [
       "array([ 0.        ,  2.63157895,  5.26315789,  7.89473684, 10.52631579,\n",
       "       13.15789474, 15.78947368, 18.42105263, 21.05263158, 23.68421053,\n",
       "       26.31578947, 28.94736842, 31.57894737, 34.21052632, 36.84210526,\n",
       "       39.47368421, 42.10526316, 44.73684211, 47.36842105, 50.        ])"
      ]
     },
     "execution_count": 22,
     "metadata": {},
     "output_type": "execute_result"
    }
   ],
   "source": [
    "a"
   ]
  },
  {
   "cell_type": "code",
   "execution_count": 31,
   "id": "ac952e25-7ce3-4d20-9a48-640837b146ea",
   "metadata": {},
   "outputs": [],
   "source": [
    "mean = np.mean(a)\n",
    "median = np.median(a)\n",
    "standardDeviation = np.std(a)"
   ]
  },
  {
   "cell_type": "code",
   "execution_count": 32,
   "id": "9319d0bb-099c-4fdb-831d-62dec5024972",
   "metadata": {},
   "outputs": [
    {
     "name": "stdout",
     "output_type": "stream",
     "text": [
      "25.0 25.0 0.0\n"
     ]
    }
   ],
   "source": [
    "print(mean,median,standardDeviation)"
   ]
  },
  {
   "cell_type": "code",
   "execution_count": 6,
   "id": "0e488064-d196-4903-89eb-96138c4d2ce6",
   "metadata": {},
   "outputs": [],
   "source": [
    "a = np.random.randint(0,40,size = (4,4))"
   ]
  },
  {
   "cell_type": "code",
   "execution_count": 7,
   "id": "c588bfd4-d921-4b5a-8eb0-68ef60937b7d",
   "metadata": {},
   "outputs": [
    {
     "data": {
      "text/plain": [
       "array([[37, 14, 26,  7],\n",
       "       [10,  7,  0, 16],\n",
       "       [21, 30, 12, 22],\n",
       "       [23, 26, 32, 19]])"
      ]
     },
     "execution_count": 7,
     "metadata": {},
     "output_type": "execute_result"
    }
   ],
   "source": [
    "a"
   ]
  },
  {
   "cell_type": "code",
   "execution_count": 10,
   "id": "f53be443-2dca-4e16-a29c-a8973af87796",
   "metadata": {},
   "outputs": [],
   "source": [
    "a = np.arange(11)"
   ]
  },
  {
   "cell_type": "code",
   "execution_count": 11,
   "id": "0f980bb2-5661-4b93-88eb-e070fb48d386",
   "metadata": {},
   "outputs": [
    {
     "data": {
      "text/plain": [
       "array([ 0,  1,  2,  3,  4,  5,  6,  7,  8,  9, 10])"
      ]
     },
     "execution_count": 11,
     "metadata": {},
     "output_type": "execute_result"
    }
   ],
   "source": [
    "a"
   ]
  },
  {
   "cell_type": "code",
   "execution_count": 13,
   "id": "291b4419-4221-4478-beb8-356b8c18eb69",
   "metadata": {},
   "outputs": [],
   "source": [
    "for i in a :\n",
    "    if i > 5 :\n",
    "        a[i] = 0 \n",
    "        "
   ]
  },
  {
   "cell_type": "code",
   "execution_count": 14,
   "id": "5c861380-8752-455f-95cb-6e32b7b8ccac",
   "metadata": {},
   "outputs": [
    {
     "data": {
      "text/plain": [
       "array([0, 1, 2, 3, 4, 5, 0, 0, 0, 0, 0])"
      ]
     },
     "execution_count": 14,
     "metadata": {},
     "output_type": "execute_result"
    }
   ],
   "source": [
    "a"
   ]
  },
  {
   "cell_type": "code",
   "execution_count": null,
   "id": "24939c61-627f-4d65-b0bb-7c33fb032d31",
   "metadata": {},
   "outputs": [],
   "source": []
  }
 ],
 "metadata": {
  "kernelspec": {
   "display_name": "Python 3 (ipykernel)",
   "language": "python",
   "name": "python3"
  },
  "language_info": {
   "codemirror_mode": {
    "name": "ipython",
    "version": 3
   },
   "file_extension": ".py",
   "mimetype": "text/x-python",
   "name": "python",
   "nbconvert_exporter": "python",
   "pygments_lexer": "ipython3",
   "version": "3.10.8"
  }
 },
 "nbformat": 4,
 "nbformat_minor": 5
}
