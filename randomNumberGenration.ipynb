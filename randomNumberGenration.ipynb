{
 "cells": [
  {
   "cell_type": "markdown",
   "id": "37b061a1-b9c7-4173-956e-e55fafa8348d",
   "metadata": {},
   "source": [
    "## playing with random numbers\n"
   ]
  },
  {
   "cell_type": "code",
   "execution_count": 2,
   "id": "c0ee8e14-3450-4bbd-9eb3-e208d986ab27",
   "metadata": {},
   "outputs": [],
   "source": [
    "import random \n",
    "import math "
   ]
  },
  {
   "cell_type": "code",
   "execution_count": 6,
   "id": "844e618d-5599-4f09-9ef7-de7d93f6ac3d",
   "metadata": {},
   "outputs": [
    {
     "name": "stdout",
     "output_type": "stream",
     "text": [
      "78 79 78.26250616194929\n"
     ]
    }
   ],
   "source": [
    "randomNum = random.random()*100\n",
    "print(math.floor(randomNum),math.ceil(randomNum),randomNum)"
   ]
  },
  {
   "cell_type": "code",
   "execution_count": null,
   "id": "4420ed30-4e03-4780-bf19-9a635aa08902",
   "metadata": {},
   "outputs": [],
   "source": []
  }
 ],
 "metadata": {
  "kernelspec": {
   "display_name": "Python 3 (ipykernel)",
   "language": "python",
   "name": "python3"
  },
  "language_info": {
   "codemirror_mode": {
    "name": "ipython",
    "version": 3
   },
   "file_extension": ".py",
   "mimetype": "text/x-python",
   "name": "python",
   "nbconvert_exporter": "python",
   "pygments_lexer": "ipython3",
   "version": "3.10.8"
  }
 },
 "nbformat": 4,
 "nbformat_minor": 5
}
